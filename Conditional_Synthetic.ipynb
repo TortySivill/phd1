{
 "cells": [
  {
   "cell_type": "code",
   "execution_count": 1,
   "id": "92028742",
   "metadata": {},
   "outputs": [],
   "source": [
    "import numpy as np\n",
    "import shapley \n",
    "import RDG_gaussian\n",
    "import RDG_interventional\n",
    "import random\n",
    "from sklearn.model_selection import train_test_split\n",
    "from sklearn.ensemble import GradientBoostingRegressor"
   ]
  },
  {
   "cell_type": "code",
   "execution_count": 2,
   "id": "3b879e57",
   "metadata": {},
   "outputs": [],
   "source": [
    "def f(xs):\n",
    "    if type(xs).__module__ == np.__name__:\n",
    "        \n",
    "        #xs[:,0] + np.exp(xs[:,1] / (2 + xs[:,4])) + 2*(xs[:,2] * xs[:,3]) + np.sin(xs[:,5] + xs[:,6])\n",
    "        return xs[:,0] + 0.5*xs[:,1] + 0.8*xs[:,3] + 0.2*xs[:,2] + 0.5*xs[:,4] \n",
    "    else:\n",
    "        #xs[0] + np.exp(xs[1] / (2 + xs[4])) + 2*(xs[2] * xs[3]) + np.sin(xs[5] + xs[6])\n",
    "        return xs[0] + 0.5*xs[1] + 0.8*xs[3] + 0.2*xs[2] + 0.5*xs[4] "
   ]
  },
  {
   "cell_type": "code",
   "execution_count": 3,
   "id": "bb57a729",
   "metadata": {},
   "outputs": [],
   "source": [
    "def MAE():\n",
    "    X1 = []\n",
    "    for i in range(1000):\n",
    "        x1 = []\n",
    "        pop = random.uniform(-1,1)\n",
    "        x1.append(pop)\n",
    "        x1.append(2*pop)\n",
    "        for i in range(0,3):\n",
    "            x1.append(random.uniform(-1,1))\n",
    "        x1.append(5*pop)\n",
    "        X1.append(x1)\n",
    "\n",
    "    X2 = []\n",
    "    for i in range(1000):\n",
    "        x2 = []\n",
    "        pop = random.uniform(-1,1)\n",
    "        x2.append(pop)\n",
    "        x2.append(2*pop)\n",
    "        for i in range(0,3):\n",
    "            x2.append(random.uniform(-1,1))\n",
    "        x2.append(5*pop)\n",
    "        X2.append(x2)\n",
    "\n",
    "    X = np.concatenate([np.asarray(X1),np.asarray(X2)])\n",
    "    Y = f(X)\n",
    "    X_train, X_test, y_train, y_test = train_test_split(X, Y, test_size=0.33, random_state=42)\n",
    "    from sklearn.ensemble import RandomForestRegressor    \n",
    "    from sklearn.linear_model import LinearRegression\n",
    "    #clf = LinearRegression().fit(X_train, y_train)\n",
    "    clf = RandomForestRegressor(max_depth=10, random_state=0).fit(X_train, y_train)\n",
    "    print(clf.score(X_test, y_test))\n",
    "    cov = np.cov(X.T)\n",
    "    means = X.mean(axis=0)\n",
    "    overall_ss = []\n",
    "    overall_s_i = []\n",
    "    overall_s_c = []\n",
    "    for a in range(0,10):\n",
    "        print(a)\n",
    "        print(X_train.shape)\n",
    "        x = X_test[random.randint(0,200)]\n",
    "       \n",
    "        ss_atts,seps,nonseps = RDG_gaussian.RDG(clf.predict,np.asarray(x),means,cov,[-1,-2,-1,-1,-1,-5],[1,2,1,1,1,5],0.15,X_train)\n",
    "        s_i_atts = shapley.shapley_int(clf.predict,np.asarray(x),np.asarray(means))\n",
    "        s_c_atts = shapley.shapley_cond_gaussian(clf.predict,np.asarray(x),X)\n",
    "       \n",
    "        print(ss_atts)\n",
    "        ground_truth = {}\n",
    "        ground_truth[0] = x[0]\n",
    "        ground_truth[1] = 0.5*x[1]\n",
    "        ground_truth[2] = 0.2*x[2]\n",
    "        ground_truth[3] = 0.8*x[3]\n",
    "        ground_truth[4] = 0.5*x[4]\n",
    "        ground_truth[5] = 0\n",
    "        ss_error = []\n",
    "        sorted_dict = np.zeros(len(x))\n",
    "        for i in range(0,len(x)):\n",
    "            if sorted_dict[i] == 0:\n",
    "                u_index = 0\n",
    "                for u in ss_atts.keys():\n",
    "                    if i in list(u):\n",
    "                        gt = 0\n",
    "                        for j in list(u):\n",
    "                            gt += ground_truth[j]\n",
    "                            sorted_dict[j] = 1\n",
    "                        ss_error.append(np.abs(gt - list(ss_atts.values())[u_index]))\n",
    "                    u_index +=1\n",
    "                    \n",
    "        s_i_error = []\n",
    "        for i in range(0,len(x)):\n",
    "            u_index = 0\n",
    "            for u in s_i_atts.keys():\n",
    "                if i == u:\n",
    "                    s_i_error.append(np.abs(ground_truth[i] - list(s_i_atts.values())[u_index]))\n",
    "                u_index +=1\n",
    "                \n",
    "        s_c_error = []\n",
    "        for i in range(0,len(x)):\n",
    "            u_index = 0\n",
    "            for u in s_c_atts.keys():\n",
    "                if i == u:\n",
    "                    s_c_error.append(np.abs(ground_truth[i] - list(s_c_atts.values())[u_index]))\n",
    "                u_index +=1\n",
    "        overall_s_i.append(np.mean(s_i_error))\n",
    "        overall_s_c.append(np.mean(s_c_error))\n",
    "        overall_ss.append(np.mean(ss_error))\n",
    "    return overall_s_i, overall_s_c, overall_ss\n",
    "        "
   ]
  },
  {
   "cell_type": "code",
   "execution_count": 4,
   "id": "22d7e109",
   "metadata": {},
   "outputs": [
    {
     "name": "stdout",
     "output_type": "stream",
     "text": [
      "0.9899065363591071\n",
      "0\n",
      "(1340, 6)\n",
      "{(2,): array([0.07023394]), (4,): array([-0.04807581]), (0, 1): array([1.07521808]), (3, 5): array([-0.15717787])}\n",
      "1\n",
      "(1340, 6)\n",
      "{(2,): array([0.10650854]), (3,): array([-0.51786511]), (0, 1): array([-0.15045645]), (4, 5): array([-0.15746562])}\n",
      "2\n",
      "(1340, 6)\n",
      "{(2,): array([-0.06236968]), (3,): array([-0.21399908]), (0, 1): array([-1.09208192]), (4, 5): array([-0.70546751])}\n",
      "3\n",
      "(1340, 6)\n",
      "{(0,): array([0.1944775]), (2,): array([-0.06236968]), (3,): array([0.29669273]), (4,): array([0.17048009]), (1, 5): array([0.7063367])}\n",
      "4\n",
      "(1340, 6)\n",
      "{(2,): array([-0.00910482]), (3,): array([0.26005317]), (0, 1): array([-0.24056152]), (4, 5): array([-0.3913751])}\n",
      "5\n",
      "(1340, 6)\n",
      "{(2,): array([-0.0406737]), (3,): array([-0.17595732]), (0, 1): array([-0.49750064]), (4, 5): array([-0.00051259])}\n",
      "6\n",
      "(1340, 6)\n",
      "{(2,): array([0.00316809]), (3,): array([0.21952582]), (0, 1): array([-1.25864436]), (4, 5): array([-0.61273208])}\n",
      "7\n",
      "(1340, 6)\n",
      "{(2,): array([0.00583455]), (3,): array([0.5811048]), (0, 1): array([0.35705648]), (4, 5): array([-0.09583294])}\n",
      "8\n",
      "(1340, 6)\n",
      "{(2,): array([0.06016571]), (3,): array([0.4427154]), (0, 1): array([-0.28581499]), (4, 5): array([0.01791996])}\n",
      "9\n",
      "(1340, 6)\n",
      "{(2,): array([0.09637652]), (3,): array([0.37697101]), (0, 1): array([-0.97600684]), (4, 5): array([-0.15864399])}\n"
     ]
    }
   ],
   "source": [
    "overall_s_i, overall_s_c, overall_ss = MAE()"
   ]
  },
  {
   "cell_type": "code",
   "execution_count": 5,
   "id": "c746a202",
   "metadata": {},
   "outputs": [
    {
     "name": "stdout",
     "output_type": "stream",
     "text": [
      "0.11661637772410675\n",
      "0.05179427835196047\n"
     ]
    }
   ],
   "source": [
    "print(np.mean(overall_s_i))\n",
    "print(np.std(overall_s_i))`"
   ]
  },
  {
   "cell_type": "code",
   "execution_count": 6,
   "id": "e865151f",
   "metadata": {},
   "outputs": [
    {
     "name": "stdout",
     "output_type": "stream",
     "text": [
      "0.1573731467055543\n",
      "0.0462309873880281\n"
     ]
    }
   ],
   "source": [
    "print(np.mean(overall_s_c)) \n",
    "print (np.std(overall_s_c))"
   ]
  },
  {
   "cell_type": "code",
   "execution_count": 7,
   "id": "7dd05b93",
   "metadata": {},
   "outputs": [
    {
     "name": "stdout",
     "output_type": "stream",
     "text": [
      "0.15069177689315708\n",
      "0.0666151904580166\n"
     ]
    }
   ],
   "source": [
    "print(np.mean(overall_ss))\n",
    "print(np.std(overall_ss))"
   ]
  },
  {
   "cell_type": "code",
   "execution_count": 8,
   "id": "c6f5f648",
   "metadata": {},
   "outputs": [
    {
     "data": {
      "text/plain": [
       "0.0666151904580166"
      ]
     },
     "execution_count": 8,
     "metadata": {},
     "output_type": "execute_result"
    }
   ],
   "source": [
    "np.std(overall_s_i)\n",
    "np.std(overall_s_c)\n",
    "np.std(overall_ss)"
   ]
  },
  {
   "cell_type": "code",
   "execution_count": null,
   "id": "bbdbd90f",
   "metadata": {},
   "outputs": [],
   "source": []
  }
 ],
 "metadata": {
  "kernelspec": {
   "display_name": "Python 3 (ipykernel)",
   "language": "python",
   "name": "python3"
  },
  "language_info": {
   "codemirror_mode": {
    "name": "ipython",
    "version": 3
   },
   "file_extension": ".py",
   "mimetype": "text/x-python",
   "name": "python",
   "nbconvert_exporter": "python",
   "pygments_lexer": "ipython3",
   "version": "3.10.6"
  }
 },
 "nbformat": 4,
 "nbformat_minor": 5
}
