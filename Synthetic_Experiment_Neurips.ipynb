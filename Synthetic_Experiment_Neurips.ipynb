{
 "cells": [
  {
   "cell_type": "code",
   "execution_count": 27,
   "id": "e701d022",
   "metadata": {},
   "outputs": [],
   "source": [
    "import numpy as np\n",
    "import shapley \n",
    "import RDG_interventional"
   ]
  },
  {
   "cell_type": "markdown",
   "id": "2007f402",
   "metadata": {},
   "source": [
    "f1: xs[0] + np.exp(xs[1] / (2 + xs[4])) + 2*(xs[2] * xs[3]) + np.sin(2*(xs[5] + xs[6]))\n",
    "\n",
    "\n",
    "f2: 2*(np.sign(xs[0])) + np.sign(xs[1]*xs[2]*xs[3]) + np.sign(xs[4]*xs[5]*xs[6]) "
   ]
  },
  {
   "cell_type": "code",
   "execution_count": 28,
   "id": "b53ddb88",
   "metadata": {},
   "outputs": [],
   "source": [
    "def f(xs):\n",
    "    \n",
    "    if type(xs).__module__ == np.__name__:\n",
    "        #print(xs.shape)\n",
    "        xs = xs.reshape(xs.shape[0],xs.shape[1])\n",
    "        #print(xs.shape)\n",
    "        #2*(np.sign(xs[0])) + np.sign(xs[1]*xs[2]*xs[3]) + np.sign(xs[4]*xs[5]*xs[6])\n",
    "        #2*(np.sign(xs[0])) + np.sign(xs[1]*xs[2]*xs[3]) + np.sign(xs[4]*xs[5]*xs[6])\n",
    "        #i = xs[0] + np.exp(xs[1] / (2 + xs[4])) + 2*(xs[2] * xs[3]) + np.sin(2*(xs[5] + xs[6]))\n",
    "        #i = (np.sign(xs[:,0])) + (np.sign(xs[:,1]*xs[:,2]*xs[:,3])) + np.sign(xs[:,4]*xs[:,5]*xs[:,6])\n",
    "        #i = 2*(xs[:,0] * xs[:,2] * xs[:,3]) + 4*(xs[:,4] * xs[:,5]) - 3*(xs[:,1])**2 - (xs[:,6])\n",
    "        #i = xs[:,0] + xs[:,1] + (xs[:,2])\n",
    "        #i = xs[:,0] + xs[:,1] + xs[:,2] + (xs[:,0] * xs[:,1] * xs[:,2])\n",
    "        #i = (xs[:,0] * xs[:,1])/4 + (xs[:,2]/(2+xs[:,3])) \n",
    "        i = (np.sign(xs[:,0])) + (np.sign(xs[:,1]*xs[:,2]*xs[:,3]))\n",
    "        #i = ((xs[:,0])) * xs[:,1] * xs[:,2] * xs[:,3]\n",
    "        #i = ((xs[:,0])) * xs[:,1] + 2*xs[:,3]\n",
    "        return(i)\n",
    "        \n",
    "        #return ((xs[:,0] and xs[:,4]) or (xs[:,1] or xs[:,2])) + xs[:,3]\n",
    "        #return xs[:,0] + np.exp(xs[:,1] / (2 + xs[:,4])) + 2*(xs[:,2] * xs[:,3]) + np.sin(xs[:,5] + xs[:,6])\n",
    "    else:\n",
    "        #return ((xs[0] and xs[4]) or (xs[1] or xs[2])) + xs[3]\n",
    "        #return (xs[0] and (xs[1] or xs[2])) or ((xs[3] and not xs[4]) or xs[5])\n",
    "        #return xs[0] + np.exp(xs[1] / (2 + xs[4])) + 2*(xs[2] * xs[3]) + np.sin(xs[5] + xs[6])\n",
    "        #i =  xs[0] + np.exp(xs[1] / (2 + xs[4])) + 2*(xs[2] * xs[3]) + np.sin(2*(xs[5] + xs[6]))\n",
    "    \n",
    "        #i = (np.sign(xs[0])) + (np.sign(xs[1]*xs[2]*xs[3])) + np.sign(xs[4]*xs[5]*xs[6])\n",
    "        #i = 2*(xs[0] * xs[2] * xs[3]) + 4*(xs[4] * xs[5]) - 3*(xs[1])**2 - (xs[6])\n",
    "        #i = xs[0] * 2*xs[1] + (xs[2]/(2+xs[3])) \n",
    "        #i = (np.sign(xs[0])) + (np.sign(xs[1]*xs[2]*xs[3]))\n",
    "        #i = xs[0] + xs[1]+ xs[2]\n",
    "        #i = xs[0] + xs[1] + xs[2] + (xs[0] * xs[1] * xs[2])\n",
    "        #i = (xs[0] * xs[1])/4 + (xs[2]/(2+xs[3])) \n",
    "        i = (np.sign(xs[0])) + (np.sign(xs[1]*xs[2]*xs[3]))\n",
    "        #i = ((xs[0])) * xs[1] * xs[2] * xs[3]\n",
    "        #i = ((xs[0])) * xs[1] + 2*xs[3]\n",
    "        \n",
    "        return(i)"
   ]
  },
  {
   "cell_type": "code",
   "execution_count": 29,
   "id": "3256c468",
   "metadata": {},
   "outputs": [],
   "source": [
    "#x = [1 for _ in range(0,7)]\n",
    "x = [np.random.uniform(-1,1) for _ in range(0,7)]\n",
    "\n",
    "z = [np.random.uniform(-1,1) for _ in range(0,7)]\n"
   ]
  },
  {
   "cell_type": "code",
   "execution_count": 30,
   "id": "3fea5d41",
   "metadata": {},
   "outputs": [],
   "source": [
    "x = [1,-1,1,1]\n",
    "z = [0,0,0,0]\n",
    "\n",
    "#x = [1,1,1]\n",
    "#z =[0,0,0]"
   ]
  },
  {
   "cell_type": "code",
   "execution_count": 31,
   "id": "a4ae2d1c",
   "metadata": {},
   "outputs": [
    {
     "name": "stdout",
     "output_type": "stream",
     "text": [
      "{(0,): array([1])}\n"
     ]
    }
   ],
   "source": [
    "ss_atts,seps,nonseps = RDG_interventional.RDG(f,list(x),list(z),[-1 for _ in range(0,len(x))],[1 for _ in range(0,len((x)))],0.1)\n",
    "print(ss_atts)"
   ]
  },
  {
   "cell_type": "code",
   "execution_count": 32,
   "id": "49264741",
   "metadata": {},
   "outputs": [
    {
     "data": {
      "text/plain": [
       "{0: array([1.]),\n",
       " 1: array([-0.33333333]),\n",
       " 2: array([-0.33333333]),\n",
       " 3: array([-0.33333333])}"
      ]
     },
     "execution_count": 32,
     "metadata": {},
     "output_type": "execute_result"
    }
   ],
   "source": [
    "s_atts = shapley.shapley_int(f,np.asarray(x),np.asarray(z))\n",
    "s_atts"
   ]
  },
  {
   "cell_type": "code",
   "execution_count": 33,
   "id": "698e0f19",
   "metadata": {},
   "outputs": [],
   "source": [
    "from itertools import permutations\n",
    "import math\n",
    "import random\n",
    "\n",
    "def value_marg(f,S,S_bar,x,z,feature_value):\n",
    "    xs = list(np.zeros(len(x)))\n",
    "    if len(S) > 0:\n",
    "        for i in S:\n",
    "            xs[i] = x[i]\n",
    "    if len(S_bar) > 0:\n",
    "        for i in S_bar:\n",
    "            xs[i] = z[i]\n",
    "\n",
    "    with_i = xs.copy()\n",
    "    with_i[feature_value] = x[feature_value]\n",
    "    without_i = xs.copy()\n",
    "    without_i[feature_value] = z[feature_value]\n",
    "    \n",
    "    return f(np.asarray(with_i).reshape(1,-1)) - f(np.asarray(without_i).reshape(1,-1))\n",
    "\n",
    "\n",
    "\n",
    "def shap_taylor(x,z):\n",
    "    indi_atts = {}\n",
    "    pair_atts = {}\n",
    "    \n",
    "    n = x.shape[0]\n",
    "    k = 2\n",
    "    for feature_index in np.arange(x.shape[0]):\n",
    "        \n",
    "        with_i = z.copy()\n",
    "        with_i[feature_index] = x[feature_index]\n",
    "        without_i = z.copy()\n",
    "\n",
    "    \n",
    "        indi_atts[feature_index] = f(np.asarray(with_i).reshape(1,-1)) - f(np.asarray(without_i).reshape(1,-1))\n",
    "        \n",
    "        rows = np.arange(x.shape[0])\n",
    "        columns = rows.copy()\n",
    "    for feature_index_i in rows:\n",
    "        columns = np.delete(columns,0)\n",
    "       \n",
    "        \n",
    "        for feature_index_j in columns:\n",
    "            if feature_index_i != feature_index_j:\n",
    "                    perms = 0\n",
    "                    perm_value = 0\n",
    "                    for i in range(0,5):\n",
    "                        \n",
    "\n",
    "                        new_permutations = np.arange(n).copy()\n",
    "                        new_permutations = np.delete(new_permutations,[feature_index_j,feature_index_i])\n",
    "\n",
    "\n",
    "                        perms += 1\n",
    "                  \n",
    "\n",
    "                        S = random.sample(list(new_permutations), random.randint(1,len(new_permutations)))\n",
    "                        print(S)\n",
    "\n",
    "\n",
    "                        without_i = z.copy()\n",
    "                        for index in S:\n",
    "                            without_i[index] = x[index]\n",
    "                        with_i = without_i.copy()\n",
    "                        with_i[feature_index_j] = x[feature_index_j]\n",
    "                        with_i[feature_index_i] = x[feature_index_i]\n",
    "\n",
    "                        t = len(S)\n",
    "                        \n",
    "                        coef = (math.factorial(n-1))/((math.factorial(t)*(math.factorial(n-1-t))))\n",
    "                        perm_value += f(np.asarray(with_i).reshape(1,-1)) - f(np.asarray(without_i).reshape(1,-1)) - indi_atts[feature_index_i] - indi_atts[feature_index_j]\n",
    "                    #pair_atts[feature_index_i,feature_index_j] =  (k/n * perm_value/perms) - indi_atts[feature_index_i] - indi_atts[feature_index_j]\n",
    "                    #pair_atts[feature_index_i,feature_index_j] =  (k/n * perm_value/perms) \n",
    "                    pair_atts[feature_index_i,feature_index_j] =  (k/n*(perm_value/perms)*1/coef) \n",
    "                    \n",
    "                        \n",
    "                    \n",
    "                                 \n",
    "    return(indi_atts,pair_atts)\n"
   ]
  },
  {
   "cell_type": "code",
   "execution_count": 34,
   "id": "568dae63",
   "metadata": {},
   "outputs": [
    {
     "name": "stdout",
     "output_type": "stream",
     "text": [
      "[2, 3]\n",
      "[2, 3]\n",
      "[2]\n",
      "[2, 3]\n",
      "[2, 3]\n",
      "[1]\n",
      "[3]\n",
      "[3]\n",
      "[3]\n",
      "[3]\n",
      "[1]\n",
      "[2]\n",
      "[1, 2]\n",
      "[2]\n",
      "[2]\n",
      "[0]\n",
      "[0, 3]\n",
      "[0]\n",
      "[3, 0]\n",
      "[3]\n",
      "[0, 2]\n",
      "[0]\n",
      "[2, 0]\n",
      "[2]\n",
      "[2, 0]\n",
      "[1]\n",
      "[1]\n",
      "[1, 0]\n",
      "[0, 1]\n",
      "[1]\n"
     ]
    },
    {
     "data": {
      "text/plain": [
       "({0: array([1]), 1: array([0]), 2: array([0]), 3: array([0])},\n",
       " {(0, 1): array([-0.13333333]),\n",
       "  (0, 2): array([0.]),\n",
       "  (0, 3): array([-0.03333333]),\n",
       "  (1, 2): array([-0.1]),\n",
       "  (1, 3): array([-0.13333333]),\n",
       "  (2, 3): array([-0.16666667])})"
      ]
     },
     "execution_count": 34,
     "metadata": {},
     "output_type": "execute_result"
    }
   ],
   "source": [
    "atts = shap_taylor(np.asarray(x),np.asarray(z))\n",
    "atts"
   ]
  },
  {
   "cell_type": "code",
   "execution_count": 626,
   "id": "2ae5b41b",
   "metadata": {},
   "outputs": [],
   "source": [
    "def MSE():\n",
    "    overall_s_error = []\n",
    "    overall_ss_error = []\n",
    "    overall_ks_error = []\n",
    "    for i in range(0,1):\n",
    "        x = [np.random.uniform(-1,1) for _ in range(0,7)]\n",
    "        z = [np.random.uniform(-1,1) for _ in range(0,7)]\n",
    "        ss_atts,seps,nonseps = RDG_interventional.RDG(f,list(x),list(z),[-1 for _ in range(0,len(x))],[1 for _ in range(0,len((x)))],0.1)\n",
    "        s_atts = shapley.shapley_int(f,np.asarray(x),np.asarray(z))\n",
    "        \n",
    "        \n",
    "        \n",
    "        \"\"\"datas = []\n",
    "        for i in range(100):\n",
    "            data = []\n",
    "            for i in range(0,len(x)):\n",
    "                data.append(random.uniform(-1,1))\n",
    "            datas.append(data)\n",
    "        datas = np.asarray(datas).reshape(100,len(x))\n",
    "        explainer = shap.KernelExplainer(f, datas)\n",
    "        shap_values = explainer.shap_values(np.asarray(x).reshape(1,len(x)), nsamples=1000)\n",
    "\n",
    "        ks_atts = {}\n",
    "        for i in range(0,len(x)):\n",
    "            ks_atts[i] = shap_values[0][i]\"\"\"\n",
    "            \n",
    "        \n",
    "      \n",
    "        ground_truth = {}\n",
    "        ground_truth[0] = 2*(x[0] * x[2] * x[3]) - 2*(z[0] * z[2] * z[3]) \n",
    "        ground_truth[1] =  (- 3*(x[1])**2) - ((- 3*(z[1])**2))\n",
    "        ground_truth[2] = 2*(x[0] * x[2] * x[3]) - 2*(z[0] * z[2] * z[3])\n",
    "        ground_truth[3] =  2*(x[0] * x[2] * x[3]) - 2*(z[0] * z[2] * z[3])\n",
    "        ground_truth[4] = 4*(x[4] * x[5]) - 4*(z[4] * z[5])\n",
    "        ground_truth[5] =  4*(x[4] * x[5]) - 4*(z[4] * z[5])\n",
    "        ground_truth[6] =  (- (x[6])) - (- (z[6]))\n",
    "        \n",
    "        print(ss_atts)\n",
    "        #print(ground_truth)\n",
    "\n",
    "        ss_error = []\n",
    "        for i in range(0,len(x)):\n",
    "            u_index = 0\n",
    "            for u in ss_atts.keys():\n",
    "                if i in u:\n",
    "                    ss_error.append(np.abs(ground_truth[i] - list(ss_atts.values())[u_index]))\n",
    "                u_index +=1\n",
    "        #print(np.mean(np.asarray(ss_error)))\n",
    "        s_error = []\n",
    "        for i in range(0,len(x)):\n",
    "            u_index = 0\n",
    "            for u in s_atts.keys():\n",
    "                if i == u:\n",
    "                    s_error.append(np.abs(ground_truth[i] - list(s_atts.values())[u_index]))\n",
    "                u_index +=1\n",
    "                \n",
    "        \"\"\"ks_error = []\n",
    "        for i in range(0,len(x)):\n",
    "            u_index = 0\n",
    "            for u in ks_atts.keys():\n",
    "                if i == u:\n",
    "                    ks_error.append(np.abs(ground_truth[i] - list(ks_atts.values())[u_index]))\n",
    "                u_index +=1\"\"\"\n",
    "                \n",
    "        #print(np.mean(np.asarray(s_error)))\n",
    "        overall_s_error.append(s_error)\n",
    "        overall_ss_error.append(ss_error)\n",
    "        #overall_ks_error.append(ks_error)\n",
    "    return(overall_s_error, overall_ss_error)\n",
    "\n"
   ]
  },
  {
   "cell_type": "code",
   "execution_count": 15,
   "id": "e784e382",
   "metadata": {},
   "outputs": [
    {
     "name": "stdout",
     "output_type": "stream",
     "text": [
      "{(1,): array([0.02473234]), (6,): array([1.43673024]), (0, 2, 3): array([0.34348804]), (4, 5): array([-0.85591356])}\n"
     ]
    }
   ],
   "source": [
    "overall_s_error, overall_ss_error = MSE()"
   ]
  },
  {
   "cell_type": "code",
   "execution_count": 16,
   "id": "0d0564ec",
   "metadata": {},
   "outputs": [
    {
     "data": {
      "text/plain": [
       "[[array([0.29050357]),\n",
       "  array([3.45556916e-15]),\n",
       "  array([0.04545177]),\n",
       "  array([0.35102075]),\n",
       "  array([0.50283555]),\n",
       "  array([1.3587491]),\n",
       "  array([1.51656465e-13])]]"
      ]
     },
     "execution_count": 16,
     "metadata": {},
     "output_type": "execute_result"
    }
   ],
   "source": [
    "overall_s_error"
   ]
  },
  {
   "cell_type": "code",
   "execution_count": 17,
   "id": "162197f1",
   "metadata": {},
   "outputs": [
    {
     "data": {
      "text/plain": [
       "[[array([0.]),\n",
       "  array([0.]),\n",
       "  array([0.]),\n",
       "  array([0.]),\n",
       "  array([0.]),\n",
       "  array([0.]),\n",
       "  array([0.])]]"
      ]
     },
     "execution_count": 17,
     "metadata": {},
     "output_type": "execute_result"
    }
   ],
   "source": [
    "overall_ss_error"
   ]
  },
  {
   "cell_type": "code",
   "execution_count": null,
   "id": "7fd9d6f2",
   "metadata": {},
   "outputs": [],
   "source": []
  },
  {
   "cell_type": "code",
   "execution_count": null,
   "id": "5b8357d9",
   "metadata": {},
   "outputs": [],
   "source": []
  },
  {
   "cell_type": "code",
   "execution_count": null,
   "id": "d0cced00",
   "metadata": {},
   "outputs": [],
   "source": []
  },
  {
   "cell_type": "code",
   "execution_count": null,
   "id": "543826d1",
   "metadata": {},
   "outputs": [],
   "source": []
  },
  {
   "cell_type": "code",
   "execution_count": null,
   "id": "0a57975c",
   "metadata": {},
   "outputs": [],
   "source": []
  },
  {
   "cell_type": "code",
   "execution_count": null,
   "id": "775ecc10",
   "metadata": {},
   "outputs": [],
   "source": []
  }
 ],
 "metadata": {
  "kernelspec": {
   "display_name": "Python 3 (ipykernel)",
   "language": "python",
   "name": "python3"
  },
  "language_info": {
   "codemirror_mode": {
    "name": "ipython",
    "version": 3
   },
   "file_extension": ".py",
   "mimetype": "text/x-python",
   "name": "python",
   "nbconvert_exporter": "python",
   "pygments_lexer": "ipython3",
   "version": "3.10.6"
  }
 },
 "nbformat": 4,
 "nbformat_minor": 5
}
