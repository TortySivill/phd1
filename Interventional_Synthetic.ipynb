{
 "cells": [
  {
   "cell_type": "code",
   "execution_count": 1,
   "id": "e701d022",
   "metadata": {},
   "outputs": [],
   "source": [
    "import numpy as np\n",
    "import shapley \n",
    "import RDG_interventional"
   ]
  },
  {
   "cell_type": "markdown",
   "id": "2007f402",
   "metadata": {},
   "source": [
    "f1: xs[0] + np.exp(xs[1] / (2 + xs[4])) + 2*(xs[2] * xs[3]) + np.sin(2*(xs[5] + xs[6]))\n",
    "\n",
    "\n",
    "f2: 2*(np.sign(xs[0])) + np.sign(xs[1]*xs[2]*xs[3]) + np.sign(xs[4]*xs[5]*xs[6]) "
   ]
  },
  {
   "cell_type": "code",
   "execution_count": 75,
   "id": "b53ddb88",
   "metadata": {},
   "outputs": [],
   "source": [
    "def f(xs):\n",
    "    \n",
    "    if type(xs).__module__ == np.__name__:\n",
    "        #print(xs.shape)\n",
    "        xs = xs.reshape(xs.shape[0],xs.shape[1])\n",
    "        #print(xs.shape)\n",
    "        #2*(np.sign(xs[0])) + np.sign(xs[1]*xs[2]*xs[3]) + np.sign(xs[4]*xs[5]*xs[6])\n",
    "        #2*(np.sign(xs[0])) + np.sign(xs[1]*xs[2]*xs[3]) + np.sign(xs[4]*xs[5]*xs[6])\n",
    "        #i = xs[0] + np.exp(xs[1] / (2 + xs[4])) + 2*(xs[2] * xs[3]) + np.sin(2*(xs[5] + xs[6]))\n",
    "        #i = (np.sign(xs[0])) + (np.sign(xs[1]*xs[2]*xs[3])) + np.sign(xs[4]*xs[5]*xs[6])\n",
    "        i = 2*(xs[:,0] * xs[:,2] * xs[:,3]) + 4*(xs[:,4] * xs[:,5]) - 3*(xs[:,1])**2 - (xs[:,6])\n",
    "        \n",
    "        return(i)\n",
    "        \n",
    "        #return ((xs[:,0] and xs[:,4]) or (xs[:,1] or xs[:,2])) + xs[:,3]\n",
    "        #return xs[:,0] + np.exp(xs[:,1] / (2 + xs[:,4])) + 2*(xs[:,2] * xs[:,3]) + np.sin(xs[:,5] + xs[:,6])\n",
    "    else:\n",
    "        #return ((xs[0] and xs[4]) or (xs[1] or xs[2])) + xs[3]\n",
    "        #return (xs[0] and (xs[1] or xs[2])) or ((xs[3] and not xs[4]) or xs[5])\n",
    "        #return xs[0] + np.exp(xs[1] / (2 + xs[4])) + 2*(xs[2] * xs[3]) + np.sin(xs[5] + xs[6])\n",
    "        #i =  xs[0] + np.exp(xs[1] / (2 + xs[4])) + 2*(xs[2] * xs[3]) + np.sin(2*(xs[5] + xs[6]))\n",
    "    \n",
    "        #i = (np.sign(xs[0])) + (np.sign(xs[1]*xs[2]*xs[3])) + np.sign(xs[4]*xs[5]*xs[6])\n",
    "        i = 2*(xs[0] * xs[2] * xs[3]) + 4*(xs[4] * xs[5]) - 3*(xs[1])**2 - (xs[6])\n",
    "        \n",
    "        return(i)"
   ]
  },
  {
   "cell_type": "code",
   "execution_count": 76,
   "id": "3256c468",
   "metadata": {},
   "outputs": [],
   "source": [
    "#x = [1 for _ in range(0,7)]\n",
    "x = [np.random.uniform(-1,1) for _ in range(0,7)]\n",
    "\n",
    "z = [np.random.uniform(-1,1) for _ in range(0,7)]\n"
   ]
  },
  {
   "cell_type": "code",
   "execution_count": 77,
   "id": "a4ae2d1c",
   "metadata": {},
   "outputs": [
    {
     "name": "stdout",
     "output_type": "stream",
     "text": [
      "{(1,): array([-2.08126763]), (6,): array([1.52647463]), (0, 2, 3): array([-0.0444675]), (4, 5): array([0.75085969])}\n"
     ]
    }
   ],
   "source": [
    "ss_atts,seps,nonseps = RDG_interventional.RDG(f,list(x),list(z),[-1 for _ in range(0,len(x))],[1 for _ in range(0,len((x)))],0.1)\n",
    "print(ss_atts)"
   ]
  },
  {
   "cell_type": "code",
   "execution_count": 78,
   "id": "49264741",
   "metadata": {},
   "outputs": [
    {
     "data": {
      "text/plain": [
       "{0: array([0.05039687]),\n",
       " 1: array([-2.08126763]),\n",
       " 2: array([0.00939059]),\n",
       " 3: array([-0.10425497]),\n",
       " 4: array([-0.10648528]),\n",
       " 5: array([0.85734497]),\n",
       " 6: array([1.52647463])}"
      ]
     },
     "execution_count": 78,
     "metadata": {},
     "output_type": "execute_result"
    }
   ],
   "source": [
    "s_atts = shapley.shapley_int(f,np.asarray(x),np.asarray(z))\n",
    "s_atts"
   ]
  },
  {
   "cell_type": "code",
   "execution_count": 79,
   "id": "59a36869",
   "metadata": {},
   "outputs": [
    {
     "name": "stdout",
     "output_type": "stream",
     "text": [
      "Provided model function fails when applied to the provided data set.\n"
     ]
    },
    {
     "ename": "IndexError",
     "evalue": "index 3 is out of bounds for axis 1 with size 3",
     "output_type": "error",
     "traceback": [
      "\u001b[0;31m---------------------------------------------------------------------------\u001b[0m",
      "\u001b[0;31mIndexError\u001b[0m                                Traceback (most recent call last)",
      "Input \u001b[0;32mIn [79]\u001b[0m, in \u001b[0;36m<cell line: 13>\u001b[0;34m()\u001b[0m\n\u001b[1;32m     11\u001b[0m     datas\u001b[38;5;241m.\u001b[39mappend(data)\n\u001b[1;32m     12\u001b[0m datas \u001b[38;5;241m=\u001b[39m np\u001b[38;5;241m.\u001b[39masarray(datas)\u001b[38;5;241m.\u001b[39mreshape(\u001b[38;5;241m100\u001b[39m,\u001b[38;5;241m3\u001b[39m)\n\u001b[0;32m---> 13\u001b[0m explainer \u001b[38;5;241m=\u001b[39m \u001b[43mshap\u001b[49m\u001b[38;5;241;43m.\u001b[39;49m\u001b[43mKernelExplainer\u001b[49m\u001b[43m(\u001b[49m\u001b[43mf\u001b[49m\u001b[43m,\u001b[49m\u001b[43m \u001b[49m\u001b[43mdatas\u001b[49m\u001b[43m)\u001b[49m\n\u001b[1;32m     14\u001b[0m shap_values \u001b[38;5;241m=\u001b[39m explainer\u001b[38;5;241m.\u001b[39mshap_values(np\u001b[38;5;241m.\u001b[39masarray(x)\u001b[38;5;241m.\u001b[39mreshape(\u001b[38;5;241m1\u001b[39m,\u001b[38;5;28mlen\u001b[39m(x)), nsamples\u001b[38;5;241m=\u001b[39m\u001b[38;5;241m100\u001b[39m)\n\u001b[1;32m     16\u001b[0m ks_atts \u001b[38;5;241m=\u001b[39m {}\n",
      "File \u001b[0;32m~/miniforge3/lib/python3.10/site-packages/shap/explainers/_kernel.py:70\u001b[0m, in \u001b[0;36mKernel.__init__\u001b[0;34m(self, model, data, link, **kwargs)\u001b[0m\n\u001b[1;32m     68\u001b[0m \u001b[38;5;28mself\u001b[39m\u001b[38;5;241m.\u001b[39mkeep_index_ordered \u001b[38;5;241m=\u001b[39m kwargs\u001b[38;5;241m.\u001b[39mget(\u001b[38;5;124m\"\u001b[39m\u001b[38;5;124mkeep_index_ordered\u001b[39m\u001b[38;5;124m\"\u001b[39m, \u001b[38;5;28;01mFalse\u001b[39;00m)\n\u001b[1;32m     69\u001b[0m \u001b[38;5;28mself\u001b[39m\u001b[38;5;241m.\u001b[39mdata \u001b[38;5;241m=\u001b[39m convert_to_data(data, keep_index\u001b[38;5;241m=\u001b[39m\u001b[38;5;28mself\u001b[39m\u001b[38;5;241m.\u001b[39mkeep_index)\n\u001b[0;32m---> 70\u001b[0m model_null \u001b[38;5;241m=\u001b[39m \u001b[43mmatch_model_to_data\u001b[49m\u001b[43m(\u001b[49m\u001b[38;5;28;43mself\u001b[39;49m\u001b[38;5;241;43m.\u001b[39;49m\u001b[43mmodel\u001b[49m\u001b[43m,\u001b[49m\u001b[43m \u001b[49m\u001b[38;5;28;43mself\u001b[39;49m\u001b[38;5;241;43m.\u001b[39;49m\u001b[43mdata\u001b[49m\u001b[43m)\u001b[49m\n\u001b[1;32m     72\u001b[0m \u001b[38;5;66;03m# enforce our current input type limitations\u001b[39;00m\n\u001b[1;32m     73\u001b[0m \u001b[38;5;28;01massert\u001b[39;00m \u001b[38;5;28misinstance\u001b[39m(\u001b[38;5;28mself\u001b[39m\u001b[38;5;241m.\u001b[39mdata, DenseData) \u001b[38;5;129;01mor\u001b[39;00m \u001b[38;5;28misinstance\u001b[39m(\u001b[38;5;28mself\u001b[39m\u001b[38;5;241m.\u001b[39mdata, SparseData), \\\n\u001b[1;32m     74\u001b[0m        \u001b[38;5;124m\"\u001b[39m\u001b[38;5;124mShap explainer only supports the DenseData and SparseData input currently.\u001b[39m\u001b[38;5;124m\"\u001b[39m\n",
      "File \u001b[0;32m~/miniforge3/lib/python3.10/site-packages/shap/utils/_legacy.py:112\u001b[0m, in \u001b[0;36mmatch_model_to_data\u001b[0;34m(model, data)\u001b[0m\n\u001b[1;32m    110\u001b[0m         out_val \u001b[38;5;241m=\u001b[39m model\u001b[38;5;241m.\u001b[39mf(data\u001b[38;5;241m.\u001b[39mconvert_to_df())\n\u001b[1;32m    111\u001b[0m     \u001b[38;5;28;01melse\u001b[39;00m:\n\u001b[0;32m--> 112\u001b[0m         out_val \u001b[38;5;241m=\u001b[39m \u001b[43mmodel\u001b[49m\u001b[38;5;241;43m.\u001b[39;49m\u001b[43mf\u001b[49m\u001b[43m(\u001b[49m\u001b[43mdata\u001b[49m\u001b[38;5;241;43m.\u001b[39;49m\u001b[43mdata\u001b[49m\u001b[43m)\u001b[49m\n\u001b[1;32m    113\u001b[0m \u001b[38;5;28;01mexcept\u001b[39;00m:\n\u001b[1;32m    114\u001b[0m     \u001b[38;5;28mprint\u001b[39m(\u001b[38;5;124m\"\u001b[39m\u001b[38;5;124mProvided model function fails when applied to the provided data set.\u001b[39m\u001b[38;5;124m\"\u001b[39m)\n",
      "Input \u001b[0;32mIn [75]\u001b[0m, in \u001b[0;36mf\u001b[0;34m(xs)\u001b[0m\n\u001b[1;32m      5\u001b[0m     xs \u001b[38;5;241m=\u001b[39m xs\u001b[38;5;241m.\u001b[39mreshape(xs\u001b[38;5;241m.\u001b[39mshape[\u001b[38;5;241m0\u001b[39m],xs\u001b[38;5;241m.\u001b[39mshape[\u001b[38;5;241m1\u001b[39m])\n\u001b[1;32m      6\u001b[0m     \u001b[38;5;66;03m#print(xs.shape)\u001b[39;00m\n\u001b[1;32m      7\u001b[0m     \u001b[38;5;66;03m#2*(np.sign(xs[0])) + np.sign(xs[1]*xs[2]*xs[3]) + np.sign(xs[4]*xs[5]*xs[6])\u001b[39;00m\n\u001b[1;32m      8\u001b[0m     \u001b[38;5;66;03m#2*(np.sign(xs[0])) + np.sign(xs[1]*xs[2]*xs[3]) + np.sign(xs[4]*xs[5]*xs[6])\u001b[39;00m\n\u001b[1;32m      9\u001b[0m     \u001b[38;5;66;03m#i = xs[0] + np.exp(xs[1] / (2 + xs[4])) + 2*(xs[2] * xs[3]) + np.sin(2*(xs[5] + xs[6]))\u001b[39;00m\n\u001b[1;32m     10\u001b[0m     \u001b[38;5;66;03m#i = (np.sign(xs[0])) + (np.sign(xs[1]*xs[2]*xs[3])) + np.sign(xs[4]*xs[5]*xs[6])\u001b[39;00m\n\u001b[0;32m---> 11\u001b[0m     i \u001b[38;5;241m=\u001b[39m \u001b[38;5;241m2\u001b[39m\u001b[38;5;241m*\u001b[39m(xs[:,\u001b[38;5;241m0\u001b[39m] \u001b[38;5;241m*\u001b[39m xs[:,\u001b[38;5;241m2\u001b[39m] \u001b[38;5;241m*\u001b[39m \u001b[43mxs\u001b[49m\u001b[43m[\u001b[49m\u001b[43m:\u001b[49m\u001b[43m,\u001b[49m\u001b[38;5;241;43m3\u001b[39;49m\u001b[43m]\u001b[49m) \u001b[38;5;241m+\u001b[39m \u001b[38;5;241m4\u001b[39m\u001b[38;5;241m*\u001b[39m(xs[:,\u001b[38;5;241m4\u001b[39m] \u001b[38;5;241m*\u001b[39m xs[:,\u001b[38;5;241m5\u001b[39m]) \u001b[38;5;241m-\u001b[39m \u001b[38;5;241m3\u001b[39m\u001b[38;5;241m*\u001b[39m(xs[:,\u001b[38;5;241m1\u001b[39m])\u001b[38;5;241m*\u001b[39m\u001b[38;5;241m*\u001b[39m\u001b[38;5;241m2\u001b[39m \u001b[38;5;241m-\u001b[39m (xs[:,\u001b[38;5;241m6\u001b[39m])\n\u001b[1;32m     13\u001b[0m     \u001b[38;5;28;01mreturn\u001b[39;00m(i)\n\u001b[1;32m     15\u001b[0m     \u001b[38;5;66;03m#return ((xs[:,0] and xs[:,4]) or (xs[:,1] or xs[:,2])) + xs[:,3]\u001b[39;00m\n\u001b[1;32m     16\u001b[0m     \u001b[38;5;66;03m#return xs[:,0] + np.exp(xs[:,1] / (2 + xs[:,4])) + 2*(xs[:,2] * xs[:,3]) + np.sin(xs[:,5] + xs[:,6])\u001b[39;00m\n\u001b[1;32m     17\u001b[0m \u001b[38;5;28;01melse\u001b[39;00m:\n\u001b[0;32m   (...)\u001b[0m\n\u001b[1;32m     22\u001b[0m \n\u001b[1;32m     23\u001b[0m     \u001b[38;5;66;03m#i = (np.sign(xs[0])) + (np.sign(xs[1]*xs[2]*xs[3])) + np.sign(xs[4]*xs[5]*xs[6])\u001b[39;00m\n",
      "\u001b[0;31mIndexError\u001b[0m: index 3 is out of bounds for axis 1 with size 3"
     ]
    }
   ],
   "source": [
    "import sklearn\n",
    "import shap\n",
    "from sklearn.model_selection import train_test_split\n",
    "import random\n",
    "\n",
    "datas = []\n",
    "for i in range(100):\n",
    "    data = []\n",
    "    for i in range(0,3):\n",
    "        data.append(random.uniform(-1,1))\n",
    "    datas.append(data)\n",
    "datas = np.asarray(datas).reshape(100,3)\n",
    "explainer = shap.KernelExplainer(f, datas)\n",
    "shap_values = explainer.shap_values(np.asarray(x).reshape(1,len(x)), nsamples=100)\n",
    "\n",
    "ks_atts = {}\n",
    "for i in range(0,len(x)):\n",
    "    ks_atts[i] = shap_values[0][i]\n",
    "ks_atts"
   ]
  },
  {
   "cell_type": "code",
   "execution_count": 80,
   "id": "92babae6",
   "metadata": {},
   "outputs": [],
   "source": [
    "from numpy import trapz\n",
    "from sklearn import metrics\n",
    "\n",
    "def faithfulness(f, atts, x, z):\n",
    "    if f(list(z)) < f(list(x)):\n",
    "        sorted_indexes = sorted(atts, key=atts.get, reverse=True)\n",
    "    else:\n",
    "        sorted_indexes = sorted(atts, key=atts.get)\n",
    "    print(sorted_indexes)\n",
    "    predictions = []\n",
    "    predictions.append(f(list(x)))\n",
    "    new_x = x.copy()\n",
    "    for j in sorted_indexes:\n",
    "        j = np.asarray(j)\n",
    "        new_x[j] = z[j]\n",
    "        predictions.append(f(list(new_x)))\n",
    "    predictions.append(f(list(z)))\n",
    "    print(predictions)\n",
    "    #fpr, tpr, thresholds = metrics.roc_curve(np.arange(len(sorted_indexes)), predictions, pos_label=2)\n",
    "    #return metrics.auc(fpr, tpr)"
   ]
  },
  {
   "cell_type": "code",
   "execution_count": 81,
   "id": "42b337e3",
   "metadata": {},
   "outputs": [
    {
     "name": "stdout",
     "output_type": "stream",
     "text": [
      "[(6,), (4, 5), (0, 2, 3), (1,)]\n",
      "[-2.3985033384645664, -3.9249779726897462, -4.675837666750379, -4.631370166333636, -2.5501025357683322, -2.5501025357683322]\n"
     ]
    }
   ],
   "source": [
    "auc = faithfulness(f,ss_atts,np.asarray(x),np.asarray(z))\n",
    "auc"
   ]
  },
  {
   "cell_type": "code",
   "execution_count": 82,
   "id": "0fb995eb",
   "metadata": {},
   "outputs": [
    {
     "name": "stdout",
     "output_type": "stream",
     "text": [
      "[6, 5, 0, 2, 3, 4, 1]\n",
      "[-2.3985033384645664, -3.9249779726897462, -2.6282726465082007, -3.0232948183834307, -2.9735145962765492, -2.583805146091458, -4.631370166333636, -2.5501025357683322, -2.5501025357683322]\n"
     ]
    }
   ],
   "source": [
    "auc = faithfulness(f,s_atts,np.asarray(x),np.asarray(z))\n",
    "auc"
   ]
  },
  {
   "cell_type": "code",
   "execution_count": 83,
   "id": "f2d1815c",
   "metadata": {},
   "outputs": [],
   "source": [
    "def robustness(f,x,z,att_map):\n",
    "    corrupted_x = x * 0.99\n",
    "    if att_map == 'ss':\n",
    "        atts,seps,nonseps = RDG_interventional.RDG(f,list(x),list(z))\n",
    "    elif att_map == 's':\n",
    "        atts = shapley.shapley_int(f,np.asarray(list(x)),list(z))\n",
    "    if att_map == 'ss':\n",
    "        corrupted_atts,seps,nonseps = RDG_interventional.RDG(f,list(corrupted_x),list(z))\n",
    "    elif att_map == 's':\n",
    "        corrupted_atts = shapley.shapley_int(f,np.asarray(list(corrupted_x)),list(z))\n",
    "   \n",
    "    sorted_indexes = sorted(atts, key=atts.get, reverse=True)\n",
    "    sorted_corrupted_indexes = sorted(atts, key=atts.get, reverse=True)\n",
    "\n",
    "    print(sorted_indexes)\n",
    "    print(sorted_corrupted_indexes)"
   ]
  },
  {
   "cell_type": "code",
   "execution_count": 84,
   "id": "53dc4e6a",
   "metadata": {},
   "outputs": [],
   "source": [
    "#robustness(f,x,z,'ss')"
   ]
  },
  {
   "cell_type": "code",
   "execution_count": 85,
   "id": "bfba93e8",
   "metadata": {},
   "outputs": [],
   "source": [
    "#robustness(f,x,z,'s')"
   ]
  },
  {
   "cell_type": "code",
   "execution_count": 86,
   "id": "b1eeb233",
   "metadata": {},
   "outputs": [],
   "source": [
    "def deletion():\n",
    "    overall_s_error = []\n",
    "    overall_ss_error = []\n",
    "    overall_ks_error = []\n",
    "    for i in range(0,1):\n",
    "        x = [np.random.uniform(-1,1) for _ in range(0,7)]\n",
    "        z = [0 for _ in range(0,7)]\n",
    "        ss_atts,seps,nonseps = RDG_interventional.RDG(f,list(x),list(z),[-1 for _ in range(0,len(x))],[1 for _ in range(0,len((x)))],0)\n",
    "        s_atts = shapley.shapley_int(f,np.asarray(x),np.asarray(z))\n",
    "        \n",
    "        for att in s_atts.keys():\n",
    "            s_atts[att] = np.abs(s_atts[att])\n",
    "        for att in ss_atts.keys():\n",
    "            ss_atts[att] = np.abs(ss_atts[att])\n",
    "        \n",
    "        \n",
    "        ss_sorted_indexes = sorted(ss_atts, key=ss_atts.get, reverse=True)\n",
    "        s_sorted_indexes = sorted(s_atts, key=s_atts.get, reverse=True)\n",
    "\n",
    "        \n",
    "        \n",
    "        z = np.asarray(z)\n",
    "        s_predictions = []\n",
    "        s_predictions.append(f(list(x)))\n",
    "        new_x = np.asarray(x.copy())\n",
    "        for j in s_sorted_indexes:\n",
    "            new_x = np.asarray(x.copy())\n",
    "            print(j)\n",
    "            j = np.asarray(j)\n",
    "            new_x[j] = z[j]\n",
    "            s_predictions.append(f(list(new_x)))\n",
    "        s_predictions.append(f(list(z)))\n",
    "        \n",
    "        ss_predictions = []\n",
    "        ss_predictions.append(f(list(x)))\n",
    "        new_x = np.asarray(x.copy())\n",
    "        for j in ss_sorted_indexes:\n",
    "            new_x = np.asarray(x.copy())\n",
    "            j = np.asarray(j)\n",
    "            print(j)\n",
    "            new_x[j] = z[j]\n",
    "            ss_predictions.append(f(list(new_x)))\n",
    "        ss_predictions.append(f(list(z)))\n",
    "        \n",
    "        print(s_predictions)\n",
    "        print(ss_predictions)\n",
    "        \n",
    "        \n",
    "        \n",
    "        \n",
    "    return(overall_s_error, overall_ss_error, overall_ks_error)\n",
    "\n"
   ]
  },
  {
   "cell_type": "code",
   "execution_count": 107,
   "id": "fdcd4052",
   "metadata": {},
   "outputs": [],
   "source": [
    "def MSE_f1():\n",
    "    overall_s_error = []\n",
    "    overall_ss_error = []\n",
    "    overall_ks_error = []\n",
    "    for i in range(0,10):\n",
    "        x = [np.random.uniform(-1,1) for _ in range(0,7)]\n",
    "        z = [0 for _ in range(0,7)]\n",
    "        ss_atts,seps,nonseps = RDG_interventional.RDG(f,list(x),list(z),[-1 for _ in range(0,len(x))],[1 for _ in range(0,len((x)))],0.2)\n",
    "        s_atts = shapley.shapley_int(f,np.asarray(x),np.asarray(z))\n",
    "        \n",
    "        print(ss_atts)\n",
    "        print(ground_truth)\n",
    "        \n",
    "        datas = []\n",
    "        for i in range(100):\n",
    "            data = []\n",
    "            for i in range(0,len(x)):\n",
    "                data.append(random.uniform(-1,1))\n",
    "            datas.append(data)\n",
    "        datas = np.asarray(datas).reshape(100,len(x))\n",
    "        #explainer = shap.KernelExplainer(f, datas)\n",
    "        #shap_values = explainer.shap_values(np.asarray(x).reshape(1,len(x)), nsamples=1000)\n",
    "\n",
    "        \"\"\"ks_atts = {}\n",
    "        for i in range(0,len(x)):\n",
    "            ks_atts[i] = shap_values[0][i]\"\"\"\n",
    "            \n",
    "        \n",
    "      \n",
    "        ground_truth = {}\n",
    "        ground_truth[0] = x[0] - z[0]\n",
    "        ground_truth[1] = (np.exp(x[1] / (2 + x[4])))  - (np.exp(z[1] / (2 + z[4]))) \n",
    "        ground_truth[2] = (2*(x[2] * x[3])) - ((z[2] * z[3]))\n",
    "        ground_truth[3] =  (2*(x[2] * x[3])) - ((z[2] * z[3]))\n",
    "        ground_truth[4] = (np.exp(x[1] / (2 + x[4])))  - (np.exp(z[1] / (2 + z[4]))) \n",
    "        ground_truth[5] =  (np.sin(2*(x[5] + x[6]))) - (np.sin(2*(z[5] + z[6])))\n",
    "        ground_truth[6] =  (np.sin(2*(x[5] + x[6]))) - (np.sin(2*(z[5] + z[6])))\n",
    "\n",
    "\n",
    "        ss_error = []\n",
    "        for i in range(0,len(x)):\n",
    "            u_index = 0\n",
    "            for u in ss_atts.keys():\n",
    "                if i in u:\n",
    "                    ss_error.append(np.abs(ground_truth[i] - list(ss_atts.values())[u_index]))\n",
    "                u_index +=1\n",
    "        #print(np.mean(np.asarray(ss_error)))\n",
    "        s_error = []\n",
    "        for i in range(0,len(x)):\n",
    "            u_index = 0\n",
    "            for u in s_atts.keys():\n",
    "                if i == u:\n",
    "                    s_error.append(np.abs(ground_truth[i] - list(s_atts.values())[u_index]))\n",
    "                u_index +=1\n",
    "                \n",
    "        ks_error = []\n",
    "        for i in range(0,len(x)):\n",
    "            u_index = 0\n",
    "            for u in ks_atts.keys():\n",
    "                if i == u:\n",
    "                    ks_error.append(np.abs(ground_truth[i] - list(ks_atts.values())[u_index]))\n",
    "                u_index +=1\n",
    "                \n",
    "        #print(np.mean(np.asarray(s_error)))\n",
    "        overall_s_error.append(s_error)\n",
    "        overall_ss_error.append(ss_error)\n",
    "        overall_ks_error.append(ks_error)\n",
    "    return(overall_s_error, overall_ss_error, overall_ks_error)\n",
    "\n"
   ]
  },
  {
   "cell_type": "code",
   "execution_count": 108,
   "id": "2ae5b41b",
   "metadata": {},
   "outputs": [],
   "source": [
    "def MSE():\n",
    "    overall_s_error = []\n",
    "    overall_ss_error = []\n",
    "    overall_ks_error = []\n",
    "    for i in range(0,1):\n",
    "        x = [np.random.uniform(-1,1) for _ in range(0,7)]\n",
    "        z = [np.random.uniform(-1,1) for _ in range(0,7)]\n",
    "        ss_atts,seps,nonseps = RDG_interventional.RDG(f,list(x),list(z),[-1 for _ in range(0,len(x))],[1 for _ in range(0,len((x)))],0.1)\n",
    "        s_atts = shapley.shapley_int(f,np.asarray(x),np.asarray(z))\n",
    "        \n",
    "        \n",
    "        \n",
    "        \"\"\"datas = []\n",
    "        for i in range(100):\n",
    "            data = []\n",
    "            for i in range(0,len(x)):\n",
    "                data.append(random.uniform(-1,1))\n",
    "            datas.append(data)\n",
    "        datas = np.asarray(datas).reshape(100,len(x))\n",
    "        explainer = shap.KernelExplainer(f, datas)\n",
    "        shap_values = explainer.shap_values(np.asarray(x).reshape(1,len(x)), nsamples=1000)\n",
    "\n",
    "        ks_atts = {}\n",
    "        for i in range(0,len(x)):\n",
    "            ks_atts[i] = shap_values[0][i]\"\"\"\n",
    "            \n",
    "        \n",
    "      \n",
    "        ground_truth = {}\n",
    "        ground_truth[0] = 2*(x[0] * x[2] * x[3]) - 2*(z[0] * z[2] * z[3]) \n",
    "        ground_truth[1] =  (- 3*(x[1])**2) - ((- 3*(z[1])**2))\n",
    "        ground_truth[2] = 2*(x[0] * x[2] * x[3]) - 2*(z[0] * z[2] * z[3])\n",
    "        ground_truth[3] =  2*(x[0] * x[2] * x[3]) - 2*(z[0] * z[2] * z[3])\n",
    "        ground_truth[4] = 4*(x[4] * x[5]) - 4*(z[4] * z[5])\n",
    "        ground_truth[5] =  4*(x[4] * x[5]) - 4*(z[4] * z[5])\n",
    "        ground_truth[6] =  (- (x[6])) - (- (z[6]))\n",
    "        \n",
    "        print(ss_atts)\n",
    "        print(ground_truth)\n",
    "\n",
    "        ss_error = []\n",
    "        for i in range(0,len(x)):\n",
    "            u_index = 0\n",
    "            for u in ss_atts.keys():\n",
    "                if i in u:\n",
    "                    ss_error.append(np.abs(ground_truth[i] - list(ss_atts.values())[u_index]))\n",
    "                u_index +=1\n",
    "        #print(np.mean(np.asarray(ss_error)))\n",
    "        s_error = []\n",
    "        for i in range(0,len(x)):\n",
    "            u_index = 0\n",
    "            for u in s_atts.keys():\n",
    "                if i == u:\n",
    "                    s_error.append(np.abs(ground_truth[i] - list(s_atts.values())[u_index]))\n",
    "                u_index +=1\n",
    "                \n",
    "        \"\"\"ks_error = []\n",
    "        for i in range(0,len(x)):\n",
    "            u_index = 0\n",
    "            for u in ks_atts.keys():\n",
    "                if i == u:\n",
    "                    ks_error.append(np.abs(ground_truth[i] - list(ks_atts.values())[u_index]))\n",
    "                u_index +=1\"\"\"\n",
    "                \n",
    "        #print(np.mean(np.asarray(s_error)))\n",
    "        overall_s_error.append(s_error)\n",
    "        overall_ss_error.append(ss_error)\n",
    "        #overall_ks_error.append(ks_error)\n",
    "    return(overall_s_error, overall_ss_error)\n",
    "\n"
   ]
  },
  {
   "cell_type": "code",
   "execution_count": 113,
   "id": "e784e382",
   "metadata": {},
   "outputs": [
    {
     "name": "stdout",
     "output_type": "stream",
     "text": [
      "{(1,): array([0.91714314]), (6,): array([-0.47343521]), (0, 2, 3): array([-0.42987555]), (4, 5): array([3.51581013])}\n",
      "{0: -0.4298755518804329, 1: 0.9171431363179482, 2: -0.4298755518804329, 3: -0.4298755518804329, 4: 3.515810127783822, 5: 3.515810127783822, 6: -0.4734352069899668}\n"
     ]
    }
   ],
   "source": [
    "overall_s_error, overall_ss_error = MSE()"
   ]
  },
  {
   "cell_type": "code",
   "execution_count": null,
   "id": "0d0564ec",
   "metadata": {},
   "outputs": [],
   "source": []
  },
  {
   "cell_type": "code",
   "execution_count": null,
   "id": "162197f1",
   "metadata": {},
   "outputs": [],
   "source": []
  },
  {
   "cell_type": "code",
   "execution_count": null,
   "id": "7fd9d6f2",
   "metadata": {},
   "outputs": [],
   "source": []
  },
  {
   "cell_type": "code",
   "execution_count": null,
   "id": "5b8357d9",
   "metadata": {},
   "outputs": [],
   "source": []
  },
  {
   "cell_type": "code",
   "execution_count": null,
   "id": "d0cced00",
   "metadata": {},
   "outputs": [],
   "source": []
  },
  {
   "cell_type": "code",
   "execution_count": null,
   "id": "543826d1",
   "metadata": {},
   "outputs": [],
   "source": []
  },
  {
   "cell_type": "code",
   "execution_count": null,
   "id": "0a57975c",
   "metadata": {},
   "outputs": [],
   "source": []
  },
  {
   "cell_type": "code",
   "execution_count": null,
   "id": "775ecc10",
   "metadata": {},
   "outputs": [],
   "source": []
  }
 ],
 "metadata": {
  "kernelspec": {
   "display_name": "Python 3 (ipykernel)",
   "language": "python",
   "name": "python3"
  },
  "language_info": {
   "codemirror_mode": {
    "name": "ipython",
    "version": 3
   },
   "file_extension": ".py",
   "mimetype": "text/x-python",
   "name": "python",
   "nbconvert_exporter": "python",
   "pygments_lexer": "ipython3",
   "version": "3.10.6"
  }
 },
 "nbformat": 4,
 "nbformat_minor": 5
}
